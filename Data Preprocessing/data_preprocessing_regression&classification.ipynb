{
  "nbformat": 4,
  "nbformat_minor": 0,
  "metadata": {
    "colab": {
      "provenance": [],
      "toc_visible": true
    },
    "kernelspec": {
      "name": "python3",
      "display_name": "Python 3"
    },
    "language_info": {
      "name": "python"
    }
  },
  "cells": [
    {
      "cell_type": "markdown",
      "source": [
        "# Importing the libraries\n",
        "\n"
      ],
      "metadata": {
        "id": "ILU1Ha2PE2i6"
      }
    },
    {
      "cell_type": "code",
      "source": [
        "!pip install pandas numpy scikit-learn xgboost tensorflow scikit-optimize bayesian-optimization\n",
        "\n",
        "import pandas as pd\n",
        "import numpy as np\n",
        "from sklearn.model_selection import train_test_split, GridSearchCV, RandomizedSearchCV\n",
        "from sklearn.preprocessing import StandardScaler, OneHotEncoder\n",
        "from sklearn.linear_model import LinearRegression, LogisticRegression\n",
        "from sklearn.ensemble import RandomForestRegressor, RandomForestClassifier\n",
        "from sklearn.metrics import mean_squared_error, r2_score, accuracy_score, precision_score, recall_score, f1_score\n",
        "from xgboost import XGBRegressor, XGBClassifier\n",
        "from sklearn.neural_network import MLPRegressor, MLPClassifier\n",
        "from sklearn.neighbors import KNeighborsRegressor, KNeighborsClassifier\n",
        "from skopt import BayesSearchCV\n",
        "from skopt.space import Real, Integer, Categorical\n",
        "import tensorflow as tf\n",
        "from tensorflow.keras.models import Sequential\n",
        "from tensorflow.keras.layers import Dense\n",
        "import warnings\n",
        "warnings.filterwarnings('ignore')"
      ],
      "metadata": {
        "id": "77EEE8EQCXfv",
        "colab": {
          "base_uri": "https://localhost:8080/"
        },
        "outputId": "b44e9a40-b97e-41e9-8b06-9012738a8999"
      },
      "execution_count": 1,
      "outputs": [
        {
          "output_type": "stream",
          "name": "stdout",
          "text": [
            "Requirement already satisfied: pandas in /usr/local/lib/python3.11/dist-packages (2.2.2)\n",
            "Requirement already satisfied: numpy in /usr/local/lib/python3.11/dist-packages (2.0.2)\n",
            "Requirement already satisfied: scikit-learn in /usr/local/lib/python3.11/dist-packages (1.6.1)\n",
            "Requirement already satisfied: xgboost in /usr/local/lib/python3.11/dist-packages (2.1.4)\n",
            "Requirement already satisfied: tensorflow in /usr/local/lib/python3.11/dist-packages (2.18.0)\n",
            "Requirement already satisfied: scikit-optimize in /usr/local/lib/python3.11/dist-packages (0.10.2)\n",
            "Requirement already satisfied: bayesian-optimization in /usr/local/lib/python3.11/dist-packages (2.0.3)\n",
            "Requirement already satisfied: python-dateutil>=2.8.2 in /usr/local/lib/python3.11/dist-packages (from pandas) (2.8.2)\n",
            "Requirement already satisfied: pytz>=2020.1 in /usr/local/lib/python3.11/dist-packages (from pandas) (2025.2)\n",
            "Requirement already satisfied: tzdata>=2022.7 in /usr/local/lib/python3.11/dist-packages (from pandas) (2025.2)\n",
            "Requirement already satisfied: scipy>=1.6.0 in /usr/local/lib/python3.11/dist-packages (from scikit-learn) (1.14.1)\n",
            "Requirement already satisfied: joblib>=1.2.0 in /usr/local/lib/python3.11/dist-packages (from scikit-learn) (1.4.2)\n",
            "Requirement already satisfied: threadpoolctl>=3.1.0 in /usr/local/lib/python3.11/dist-packages (from scikit-learn) (3.6.0)\n",
            "Requirement already satisfied: nvidia-nccl-cu12 in /usr/local/lib/python3.11/dist-packages (from xgboost) (2.21.5)\n",
            "Requirement already satisfied: absl-py>=1.0.0 in /usr/local/lib/python3.11/dist-packages (from tensorflow) (1.4.0)\n",
            "Requirement already satisfied: astunparse>=1.6.0 in /usr/local/lib/python3.11/dist-packages (from tensorflow) (1.6.3)\n",
            "Requirement already satisfied: flatbuffers>=24.3.25 in /usr/local/lib/python3.11/dist-packages (from tensorflow) (25.2.10)\n",
            "Requirement already satisfied: gast!=0.5.0,!=0.5.1,!=0.5.2,>=0.2.1 in /usr/local/lib/python3.11/dist-packages (from tensorflow) (0.6.0)\n",
            "Requirement already satisfied: google-pasta>=0.1.1 in /usr/local/lib/python3.11/dist-packages (from tensorflow) (0.2.0)\n",
            "Requirement already satisfied: libclang>=13.0.0 in /usr/local/lib/python3.11/dist-packages (from tensorflow) (18.1.1)\n",
            "Requirement already satisfied: opt-einsum>=2.3.2 in /usr/local/lib/python3.11/dist-packages (from tensorflow) (3.4.0)\n",
            "Requirement already satisfied: packaging in /usr/local/lib/python3.11/dist-packages (from tensorflow) (24.2)\n",
            "Requirement already satisfied: protobuf!=4.21.0,!=4.21.1,!=4.21.2,!=4.21.3,!=4.21.4,!=4.21.5,<6.0.0dev,>=3.20.3 in /usr/local/lib/python3.11/dist-packages (from tensorflow) (5.29.4)\n",
            "Requirement already satisfied: requests<3,>=2.21.0 in /usr/local/lib/python3.11/dist-packages (from tensorflow) (2.32.3)\n",
            "Requirement already satisfied: setuptools in /usr/local/lib/python3.11/dist-packages (from tensorflow) (75.2.0)\n",
            "Requirement already satisfied: six>=1.12.0 in /usr/local/lib/python3.11/dist-packages (from tensorflow) (1.17.0)\n",
            "Requirement already satisfied: termcolor>=1.1.0 in /usr/local/lib/python3.11/dist-packages (from tensorflow) (3.0.1)\n",
            "Requirement already satisfied: typing-extensions>=3.6.6 in /usr/local/lib/python3.11/dist-packages (from tensorflow) (4.13.1)\n",
            "Requirement already satisfied: wrapt>=1.11.0 in /usr/local/lib/python3.11/dist-packages (from tensorflow) (1.17.2)\n",
            "Requirement already satisfied: grpcio<2.0,>=1.24.3 in /usr/local/lib/python3.11/dist-packages (from tensorflow) (1.71.0)\n",
            "Requirement already satisfied: tensorboard<2.19,>=2.18 in /usr/local/lib/python3.11/dist-packages (from tensorflow) (2.18.0)\n",
            "Requirement already satisfied: keras>=3.5.0 in /usr/local/lib/python3.11/dist-packages (from tensorflow) (3.8.0)\n",
            "Requirement already satisfied: h5py>=3.11.0 in /usr/local/lib/python3.11/dist-packages (from tensorflow) (3.13.0)\n",
            "Requirement already satisfied: ml-dtypes<0.5.0,>=0.4.0 in /usr/local/lib/python3.11/dist-packages (from tensorflow) (0.4.1)\n",
            "Requirement already satisfied: tensorflow-io-gcs-filesystem>=0.23.1 in /usr/local/lib/python3.11/dist-packages (from tensorflow) (0.37.1)\n",
            "Requirement already satisfied: pyaml>=16.9 in /usr/local/lib/python3.11/dist-packages (from scikit-optimize) (25.1.0)\n",
            "Requirement already satisfied: colorama<0.5.0,>=0.4.6 in /usr/local/lib/python3.11/dist-packages (from bayesian-optimization) (0.4.6)\n",
            "Requirement already satisfied: wheel<1.0,>=0.23.0 in /usr/local/lib/python3.11/dist-packages (from astunparse>=1.6.0->tensorflow) (0.45.1)\n",
            "Requirement already satisfied: rich in /usr/local/lib/python3.11/dist-packages (from keras>=3.5.0->tensorflow) (13.9.4)\n",
            "Requirement already satisfied: namex in /usr/local/lib/python3.11/dist-packages (from keras>=3.5.0->tensorflow) (0.0.8)\n",
            "Requirement already satisfied: optree in /usr/local/lib/python3.11/dist-packages (from keras>=3.5.0->tensorflow) (0.14.1)\n",
            "Requirement already satisfied: PyYAML in /usr/local/lib/python3.11/dist-packages (from pyaml>=16.9->scikit-optimize) (6.0.2)\n",
            "Requirement already satisfied: charset-normalizer<4,>=2 in /usr/local/lib/python3.11/dist-packages (from requests<3,>=2.21.0->tensorflow) (3.4.1)\n",
            "Requirement already satisfied: idna<4,>=2.5 in /usr/local/lib/python3.11/dist-packages (from requests<3,>=2.21.0->tensorflow) (3.10)\n",
            "Requirement already satisfied: urllib3<3,>=1.21.1 in /usr/local/lib/python3.11/dist-packages (from requests<3,>=2.21.0->tensorflow) (2.3.0)\n",
            "Requirement already satisfied: certifi>=2017.4.17 in /usr/local/lib/python3.11/dist-packages (from requests<3,>=2.21.0->tensorflow) (2025.1.31)\n",
            "Requirement already satisfied: markdown>=2.6.8 in /usr/local/lib/python3.11/dist-packages (from tensorboard<2.19,>=2.18->tensorflow) (3.7)\n",
            "Requirement already satisfied: tensorboard-data-server<0.8.0,>=0.7.0 in /usr/local/lib/python3.11/dist-packages (from tensorboard<2.19,>=2.18->tensorflow) (0.7.2)\n",
            "Requirement already satisfied: werkzeug>=1.0.1 in /usr/local/lib/python3.11/dist-packages (from tensorboard<2.19,>=2.18->tensorflow) (3.1.3)\n",
            "Requirement already satisfied: MarkupSafe>=2.1.1 in /usr/local/lib/python3.11/dist-packages (from werkzeug>=1.0.1->tensorboard<2.19,>=2.18->tensorflow) (3.0.2)\n",
            "Requirement already satisfied: markdown-it-py>=2.2.0 in /usr/local/lib/python3.11/dist-packages (from rich->keras>=3.5.0->tensorflow) (3.0.0)\n",
            "Requirement already satisfied: pygments<3.0.0,>=2.13.0 in /usr/local/lib/python3.11/dist-packages (from rich->keras>=3.5.0->tensorflow) (2.18.0)\n",
            "Requirement already satisfied: mdurl~=0.1 in /usr/local/lib/python3.11/dist-packages (from markdown-it-py>=2.2.0->rich->keras>=3.5.0->tensorflow) (0.1.2)\n"
          ]
        }
      ]
    },
    {
      "cell_type": "markdown",
      "source": [
        "# Importing the dataset\n",
        "\n"
      ],
      "metadata": {
        "id": "FyIBsAtBE_RI"
      }
    },
    {
      "cell_type": "code",
      "source": [
        "#GitHub raw URLs\n",
        "url_part1 = \"https://raw.githubusercontent.com/RihalMahmood/CSSE445-Assignments/main/Datasets/PHFood_Brazil_Part1.csv\"\n",
        "url_part2 = \"https://raw.githubusercontent.com/RihalMahmood/CSSE445-Assignments/main/Datasets/PHFood_Brazil_Part2.csv\"\n",
        "\n",
        "#Load the parts into DataFrames using the 'python' engine for parsing\n",
        "df_part1 = pd.read_csv(url_part1, engine='python')\n",
        "df_part2 = pd.read_csv(url_part2, engine='python')\n",
        "\n",
        "#Combine the two parts into a single DataFrame\n",
        "dataset = pd.concat([df_part1, df_part2], ignore_index=True)\n",
        "\n",
        "dataset.head()"
      ],
      "metadata": {
        "id": "DUEuTONUCf99",
        "colab": {
          "base_uri": "https://localhost:8080/",
          "height": 394
        },
        "outputId": "2e4a43e3-16d5-4572-a520-b9f7599c0cab"
      },
      "execution_count": 2,
      "outputs": [
        {
          "output_type": "execute_result",
          "data": {
            "text/plain": [
              "   Unnamed: 0  Year      Food Food (English)   Region             State  \\\n",
              "0           1  1974   ABACATE        AVOCADO  MIDWEST  DISTRITO FEDERAL   \n",
              "1           2  1974   ABACAXI      PINEAPPLE  MIDWEST  DISTRITO FEDERAL   \n",
              "2           3  1974      ALHO         GARLIC  MIDWEST  DISTRITO FEDERAL   \n",
              "3           4  1974  AMENDOIM         PEANUT  MIDWEST  DISTRITO FEDERAL   \n",
              "4           5  1974     ARROZ           RICE  MIDWEST  DISTRITO FEDERAL   \n",
              "\n",
              "   Harvest Area (hectares)  Food Production (tons)  Energy (kcal)  \\\n",
              "0                     56.0                  1176.0   1.411200e+09   \n",
              "1                     58.0                   139.0   6.672000e+07   \n",
              "2                      2.0                     3.0   4.470000e+06   \n",
              "3                     25.0                    21.0   1.190700e+08   \n",
              "4                    900.0                   864.0   1.131370e+09   \n",
              "\n",
              "    Protein (g)  ...  Authorized  Maximum Residue Limit (MRL)  \\\n",
              "0  2.622480e+07  ...         NaN                          NaN   \n",
              "1  7.506000e+05  ...         NaN                          NaN   \n",
              "2  1.908000e+05  ...         NaN                          NaN   \n",
              "3  5.418000e+06  ...         NaN                          NaN   \n",
              "4  2.214333e+07  ...         NaN                          NaN   \n",
              "\n",
              "   Acceptable Daily Intake (ADI)  Residue Percentage  Food Acquisition (kg)  \\\n",
              "0                            NaN                 NaN                    NaN   \n",
              "1                            NaN                 NaN                    NaN   \n",
              "2                            NaN                 NaN                    NaN   \n",
              "3                            NaN                 NaN                    NaN   \n",
              "4                            NaN                 NaN                    NaN   \n",
              "\n",
              "   Food Group (FG)  Population Food Group  Bean Intake (Food Group)  \\\n",
              "0            FRUIT                    NaN                       NaN   \n",
              "1            FRUIT                    NaN                       NaN   \n",
              "2              NaN                    NaN                       NaN   \n",
              "3              NaN                    NaN                       NaN   \n",
              "4              NaN                    NaN                       NaN   \n",
              "\n",
              "   Vegetable Intake (Food Group)  Fruit Intake (Food Group)  \n",
              "0                            NaN                        NaN  \n",
              "1                            NaN                        NaN  \n",
              "2                            NaN                        NaN  \n",
              "3                            NaN                        NaN  \n",
              "4                            NaN                        NaN  \n",
              "\n",
              "[5 rows x 52 columns]"
            ],
            "text/html": [
              "\n",
              "  <div id=\"df-ffbe6a7a-63bf-4698-bf36-408d6f478f34\" class=\"colab-df-container\">\n",
              "    <div>\n",
              "<style scoped>\n",
              "    .dataframe tbody tr th:only-of-type {\n",
              "        vertical-align: middle;\n",
              "    }\n",
              "\n",
              "    .dataframe tbody tr th {\n",
              "        vertical-align: top;\n",
              "    }\n",
              "\n",
              "    .dataframe thead th {\n",
              "        text-align: right;\n",
              "    }\n",
              "</style>\n",
              "<table border=\"1\" class=\"dataframe\">\n",
              "  <thead>\n",
              "    <tr style=\"text-align: right;\">\n",
              "      <th></th>\n",
              "      <th>Unnamed: 0</th>\n",
              "      <th>Year</th>\n",
              "      <th>Food</th>\n",
              "      <th>Food (English)</th>\n",
              "      <th>Region</th>\n",
              "      <th>State</th>\n",
              "      <th>Harvest Area (hectares)</th>\n",
              "      <th>Food Production (tons)</th>\n",
              "      <th>Energy (kcal)</th>\n",
              "      <th>Protein (g)</th>\n",
              "      <th>...</th>\n",
              "      <th>Authorized</th>\n",
              "      <th>Maximum Residue Limit (MRL)</th>\n",
              "      <th>Acceptable Daily Intake (ADI)</th>\n",
              "      <th>Residue Percentage</th>\n",
              "      <th>Food Acquisition (kg)</th>\n",
              "      <th>Food Group (FG)</th>\n",
              "      <th>Population Food Group</th>\n",
              "      <th>Bean Intake (Food Group)</th>\n",
              "      <th>Vegetable Intake (Food Group)</th>\n",
              "      <th>Fruit Intake (Food Group)</th>\n",
              "    </tr>\n",
              "  </thead>\n",
              "  <tbody>\n",
              "    <tr>\n",
              "      <th>0</th>\n",
              "      <td>1</td>\n",
              "      <td>1974</td>\n",
              "      <td>ABACATE</td>\n",
              "      <td>AVOCADO</td>\n",
              "      <td>MIDWEST</td>\n",
              "      <td>DISTRITO FEDERAL</td>\n",
              "      <td>56.0</td>\n",
              "      <td>1176.0</td>\n",
              "      <td>1.411200e+09</td>\n",
              "      <td>2.622480e+07</td>\n",
              "      <td>...</td>\n",
              "      <td>NaN</td>\n",
              "      <td>NaN</td>\n",
              "      <td>NaN</td>\n",
              "      <td>NaN</td>\n",
              "      <td>NaN</td>\n",
              "      <td>FRUIT</td>\n",
              "      <td>NaN</td>\n",
              "      <td>NaN</td>\n",
              "      <td>NaN</td>\n",
              "      <td>NaN</td>\n",
              "    </tr>\n",
              "    <tr>\n",
              "      <th>1</th>\n",
              "      <td>2</td>\n",
              "      <td>1974</td>\n",
              "      <td>ABACAXI</td>\n",
              "      <td>PINEAPPLE</td>\n",
              "      <td>MIDWEST</td>\n",
              "      <td>DISTRITO FEDERAL</td>\n",
              "      <td>58.0</td>\n",
              "      <td>139.0</td>\n",
              "      <td>6.672000e+07</td>\n",
              "      <td>7.506000e+05</td>\n",
              "      <td>...</td>\n",
              "      <td>NaN</td>\n",
              "      <td>NaN</td>\n",
              "      <td>NaN</td>\n",
              "      <td>NaN</td>\n",
              "      <td>NaN</td>\n",
              "      <td>FRUIT</td>\n",
              "      <td>NaN</td>\n",
              "      <td>NaN</td>\n",
              "      <td>NaN</td>\n",
              "      <td>NaN</td>\n",
              "    </tr>\n",
              "    <tr>\n",
              "      <th>2</th>\n",
              "      <td>3</td>\n",
              "      <td>1974</td>\n",
              "      <td>ALHO</td>\n",
              "      <td>GARLIC</td>\n",
              "      <td>MIDWEST</td>\n",
              "      <td>DISTRITO FEDERAL</td>\n",
              "      <td>2.0</td>\n",
              "      <td>3.0</td>\n",
              "      <td>4.470000e+06</td>\n",
              "      <td>1.908000e+05</td>\n",
              "      <td>...</td>\n",
              "      <td>NaN</td>\n",
              "      <td>NaN</td>\n",
              "      <td>NaN</td>\n",
              "      <td>NaN</td>\n",
              "      <td>NaN</td>\n",
              "      <td>NaN</td>\n",
              "      <td>NaN</td>\n",
              "      <td>NaN</td>\n",
              "      <td>NaN</td>\n",
              "      <td>NaN</td>\n",
              "    </tr>\n",
              "    <tr>\n",
              "      <th>3</th>\n",
              "      <td>4</td>\n",
              "      <td>1974</td>\n",
              "      <td>AMENDOIM</td>\n",
              "      <td>PEANUT</td>\n",
              "      <td>MIDWEST</td>\n",
              "      <td>DISTRITO FEDERAL</td>\n",
              "      <td>25.0</td>\n",
              "      <td>21.0</td>\n",
              "      <td>1.190700e+08</td>\n",
              "      <td>5.418000e+06</td>\n",
              "      <td>...</td>\n",
              "      <td>NaN</td>\n",
              "      <td>NaN</td>\n",
              "      <td>NaN</td>\n",
              "      <td>NaN</td>\n",
              "      <td>NaN</td>\n",
              "      <td>NaN</td>\n",
              "      <td>NaN</td>\n",
              "      <td>NaN</td>\n",
              "      <td>NaN</td>\n",
              "      <td>NaN</td>\n",
              "    </tr>\n",
              "    <tr>\n",
              "      <th>4</th>\n",
              "      <td>5</td>\n",
              "      <td>1974</td>\n",
              "      <td>ARROZ</td>\n",
              "      <td>RICE</td>\n",
              "      <td>MIDWEST</td>\n",
              "      <td>DISTRITO FEDERAL</td>\n",
              "      <td>900.0</td>\n",
              "      <td>864.0</td>\n",
              "      <td>1.131370e+09</td>\n",
              "      <td>2.214333e+07</td>\n",
              "      <td>...</td>\n",
              "      <td>NaN</td>\n",
              "      <td>NaN</td>\n",
              "      <td>NaN</td>\n",
              "      <td>NaN</td>\n",
              "      <td>NaN</td>\n",
              "      <td>NaN</td>\n",
              "      <td>NaN</td>\n",
              "      <td>NaN</td>\n",
              "      <td>NaN</td>\n",
              "      <td>NaN</td>\n",
              "    </tr>\n",
              "  </tbody>\n",
              "</table>\n",
              "<p>5 rows × 52 columns</p>\n",
              "</div>\n",
              "    <div class=\"colab-df-buttons\">\n",
              "\n",
              "  <div class=\"colab-df-container\">\n",
              "    <button class=\"colab-df-convert\" onclick=\"convertToInteractive('df-ffbe6a7a-63bf-4698-bf36-408d6f478f34')\"\n",
              "            title=\"Convert this dataframe to an interactive table.\"\n",
              "            style=\"display:none;\">\n",
              "\n",
              "  <svg xmlns=\"http://www.w3.org/2000/svg\" height=\"24px\" viewBox=\"0 -960 960 960\">\n",
              "    <path d=\"M120-120v-720h720v720H120Zm60-500h600v-160H180v160Zm220 220h160v-160H400v160Zm0 220h160v-160H400v160ZM180-400h160v-160H180v160Zm440 0h160v-160H620v160ZM180-180h160v-160H180v160Zm440 0h160v-160H620v160Z\"/>\n",
              "  </svg>\n",
              "    </button>\n",
              "\n",
              "  <style>\n",
              "    .colab-df-container {\n",
              "      display:flex;\n",
              "      gap: 12px;\n",
              "    }\n",
              "\n",
              "    .colab-df-convert {\n",
              "      background-color: #E8F0FE;\n",
              "      border: none;\n",
              "      border-radius: 50%;\n",
              "      cursor: pointer;\n",
              "      display: none;\n",
              "      fill: #1967D2;\n",
              "      height: 32px;\n",
              "      padding: 0 0 0 0;\n",
              "      width: 32px;\n",
              "    }\n",
              "\n",
              "    .colab-df-convert:hover {\n",
              "      background-color: #E2EBFA;\n",
              "      box-shadow: 0px 1px 2px rgba(60, 64, 67, 0.3), 0px 1px 3px 1px rgba(60, 64, 67, 0.15);\n",
              "      fill: #174EA6;\n",
              "    }\n",
              "\n",
              "    .colab-df-buttons div {\n",
              "      margin-bottom: 4px;\n",
              "    }\n",
              "\n",
              "    [theme=dark] .colab-df-convert {\n",
              "      background-color: #3B4455;\n",
              "      fill: #D2E3FC;\n",
              "    }\n",
              "\n",
              "    [theme=dark] .colab-df-convert:hover {\n",
              "      background-color: #434B5C;\n",
              "      box-shadow: 0px 1px 3px 1px rgba(0, 0, 0, 0.15);\n",
              "      filter: drop-shadow(0px 1px 2px rgba(0, 0, 0, 0.3));\n",
              "      fill: #FFFFFF;\n",
              "    }\n",
              "  </style>\n",
              "\n",
              "    <script>\n",
              "      const buttonEl =\n",
              "        document.querySelector('#df-ffbe6a7a-63bf-4698-bf36-408d6f478f34 button.colab-df-convert');\n",
              "      buttonEl.style.display =\n",
              "        google.colab.kernel.accessAllowed ? 'block' : 'none';\n",
              "\n",
              "      async function convertToInteractive(key) {\n",
              "        const element = document.querySelector('#df-ffbe6a7a-63bf-4698-bf36-408d6f478f34');\n",
              "        const dataTable =\n",
              "          await google.colab.kernel.invokeFunction('convertToInteractive',\n",
              "                                                    [key], {});\n",
              "        if (!dataTable) return;\n",
              "\n",
              "        const docLinkHtml = 'Like what you see? Visit the ' +\n",
              "          '<a target=\"_blank\" href=https://colab.research.google.com/notebooks/data_table.ipynb>data table notebook</a>'\n",
              "          + ' to learn more about interactive tables.';\n",
              "        element.innerHTML = '';\n",
              "        dataTable['output_type'] = 'display_data';\n",
              "        await google.colab.output.renderOutput(dataTable, element);\n",
              "        const docLink = document.createElement('div');\n",
              "        docLink.innerHTML = docLinkHtml;\n",
              "        element.appendChild(docLink);\n",
              "      }\n",
              "    </script>\n",
              "  </div>\n",
              "\n",
              "\n",
              "<div id=\"df-0765bedf-f22e-4f17-832c-6b9938a8d343\">\n",
              "  <button class=\"colab-df-quickchart\" onclick=\"quickchart('df-0765bedf-f22e-4f17-832c-6b9938a8d343')\"\n",
              "            title=\"Suggest charts\"\n",
              "            style=\"display:none;\">\n",
              "\n",
              "<svg xmlns=\"http://www.w3.org/2000/svg\" height=\"24px\"viewBox=\"0 0 24 24\"\n",
              "     width=\"24px\">\n",
              "    <g>\n",
              "        <path d=\"M19 3H5c-1.1 0-2 .9-2 2v14c0 1.1.9 2 2 2h14c1.1 0 2-.9 2-2V5c0-1.1-.9-2-2-2zM9 17H7v-7h2v7zm4 0h-2V7h2v10zm4 0h-2v-4h2v4z\"/>\n",
              "    </g>\n",
              "</svg>\n",
              "  </button>\n",
              "\n",
              "<style>\n",
              "  .colab-df-quickchart {\n",
              "      --bg-color: #E8F0FE;\n",
              "      --fill-color: #1967D2;\n",
              "      --hover-bg-color: #E2EBFA;\n",
              "      --hover-fill-color: #174EA6;\n",
              "      --disabled-fill-color: #AAA;\n",
              "      --disabled-bg-color: #DDD;\n",
              "  }\n",
              "\n",
              "  [theme=dark] .colab-df-quickchart {\n",
              "      --bg-color: #3B4455;\n",
              "      --fill-color: #D2E3FC;\n",
              "      --hover-bg-color: #434B5C;\n",
              "      --hover-fill-color: #FFFFFF;\n",
              "      --disabled-bg-color: #3B4455;\n",
              "      --disabled-fill-color: #666;\n",
              "  }\n",
              "\n",
              "  .colab-df-quickchart {\n",
              "    background-color: var(--bg-color);\n",
              "    border: none;\n",
              "    border-radius: 50%;\n",
              "    cursor: pointer;\n",
              "    display: none;\n",
              "    fill: var(--fill-color);\n",
              "    height: 32px;\n",
              "    padding: 0;\n",
              "    width: 32px;\n",
              "  }\n",
              "\n",
              "  .colab-df-quickchart:hover {\n",
              "    background-color: var(--hover-bg-color);\n",
              "    box-shadow: 0 1px 2px rgba(60, 64, 67, 0.3), 0 1px 3px 1px rgba(60, 64, 67, 0.15);\n",
              "    fill: var(--button-hover-fill-color);\n",
              "  }\n",
              "\n",
              "  .colab-df-quickchart-complete:disabled,\n",
              "  .colab-df-quickchart-complete:disabled:hover {\n",
              "    background-color: var(--disabled-bg-color);\n",
              "    fill: var(--disabled-fill-color);\n",
              "    box-shadow: none;\n",
              "  }\n",
              "\n",
              "  .colab-df-spinner {\n",
              "    border: 2px solid var(--fill-color);\n",
              "    border-color: transparent;\n",
              "    border-bottom-color: var(--fill-color);\n",
              "    animation:\n",
              "      spin 1s steps(1) infinite;\n",
              "  }\n",
              "\n",
              "  @keyframes spin {\n",
              "    0% {\n",
              "      border-color: transparent;\n",
              "      border-bottom-color: var(--fill-color);\n",
              "      border-left-color: var(--fill-color);\n",
              "    }\n",
              "    20% {\n",
              "      border-color: transparent;\n",
              "      border-left-color: var(--fill-color);\n",
              "      border-top-color: var(--fill-color);\n",
              "    }\n",
              "    30% {\n",
              "      border-color: transparent;\n",
              "      border-left-color: var(--fill-color);\n",
              "      border-top-color: var(--fill-color);\n",
              "      border-right-color: var(--fill-color);\n",
              "    }\n",
              "    40% {\n",
              "      border-color: transparent;\n",
              "      border-right-color: var(--fill-color);\n",
              "      border-top-color: var(--fill-color);\n",
              "    }\n",
              "    60% {\n",
              "      border-color: transparent;\n",
              "      border-right-color: var(--fill-color);\n",
              "    }\n",
              "    80% {\n",
              "      border-color: transparent;\n",
              "      border-right-color: var(--fill-color);\n",
              "      border-bottom-color: var(--fill-color);\n",
              "    }\n",
              "    90% {\n",
              "      border-color: transparent;\n",
              "      border-bottom-color: var(--fill-color);\n",
              "    }\n",
              "  }\n",
              "</style>\n",
              "\n",
              "  <script>\n",
              "    async function quickchart(key) {\n",
              "      const quickchartButtonEl =\n",
              "        document.querySelector('#' + key + ' button');\n",
              "      quickchartButtonEl.disabled = true;  // To prevent multiple clicks.\n",
              "      quickchartButtonEl.classList.add('colab-df-spinner');\n",
              "      try {\n",
              "        const charts = await google.colab.kernel.invokeFunction(\n",
              "            'suggestCharts', [key], {});\n",
              "      } catch (error) {\n",
              "        console.error('Error during call to suggestCharts:', error);\n",
              "      }\n",
              "      quickchartButtonEl.classList.remove('colab-df-spinner');\n",
              "      quickchartButtonEl.classList.add('colab-df-quickchart-complete');\n",
              "    }\n",
              "    (() => {\n",
              "      let quickchartButtonEl =\n",
              "        document.querySelector('#df-0765bedf-f22e-4f17-832c-6b9938a8d343 button');\n",
              "      quickchartButtonEl.style.display =\n",
              "        google.colab.kernel.accessAllowed ? 'block' : 'none';\n",
              "    })();\n",
              "  </script>\n",
              "</div>\n",
              "\n",
              "    </div>\n",
              "  </div>\n"
            ],
            "application/vnd.google.colaboratory.intrinsic+json": {
              "type": "dataframe",
              "variable_name": "dataset"
            }
          },
          "metadata": {},
          "execution_count": 2
        }
      ]
    },
    {
      "cell_type": "markdown",
      "source": [
        "This dataset is a result of the \"Integrating national open databases for a comprehensive view on food, environment and health in Brazil\", an initiative that integrates diverse national open databases to provide insights into food production, consumption, environmental impact, and public health in Brazil from 1974 to 2022. The primary hypothesis behind the dataset is that analyzing food systems, nutrition, and agricultural practices over time will reveal patterns that can inform sustainable food policies and health interventions."
      ],
      "metadata": {
        "id": "Td9b79ituUrj"
      }
    },
    {
      "cell_type": "markdown",
      "source": [
        "# Checking missing values"
      ],
      "metadata": {
        "id": "_NnxfAqjCNvp"
      }
    },
    {
      "cell_type": "code",
      "source": [
        "print(dataset.isnull().sum())"
      ],
      "metadata": {
        "id": "dwb1L5PWGUlH",
        "colab": {
          "base_uri": "https://localhost:8080/"
        },
        "outputId": "f48b3503-1b36-4792-a8db-42dfe0e24aba"
      },
      "execution_count": 3,
      "outputs": [
        {
          "output_type": "stream",
          "name": "stdout",
          "text": [
            "Unnamed: 0                            0\n",
            "Year                                  0\n",
            "Food                               2196\n",
            "Food (English)                     2196\n",
            "Region                             1026\n",
            "State                              1026\n",
            "Harvest Area (hectares)            6611\n",
            "Food Production (tons)             6611\n",
            "Energy (kcal)                      6611\n",
            "Protein (g)                       23495\n",
            "Lipids (g)                         6611\n",
            "Carbohydrates (g)                  6611\n",
            "Fiber (g)                         23495\n",
            "Calcium (mg)                       6611\n",
            "Magnesium (mg)                     8121\n",
            "Manganese (mg)                    25005\n",
            "Phosphorus (mg)                   23495\n",
            "Iron (mg)                         23495\n",
            "Potassium (mg)                     8121\n",
            "Copper (mg)                        8121\n",
            "Zinc (mg)                          8121\n",
            "Selenium (mcg)                    64284\n",
            "Retinol (mcg)                    433881\n",
            "Vitamin A (mcg)                  183858\n",
            "Vitamin B1 (mg)                   11100\n",
            "Vitamin B2 (mg)                   47582\n",
            "Vitamin B3 (mg)                   47582\n",
            "Equivalent Vitamin B3 (mg)        49092\n",
            "Vitamin B6 (mg)                   26720\n",
            "Folate (mcg)                      49092\n",
            "Vitamin C (mg)                   189648\n",
            "Water Need                       414334\n",
            "Water Use                        414334\n",
            "Water Deficit                    414334\n",
            "Water Deficit Percentage         414334\n",
            "CODE                              32121\n",
            "Commercial pesticide name         32121\n",
            "Pesticide                         32121\n",
            "Class                            318775\n",
            "Organic                           32121\n",
            "Toxic Class                       32121\n",
            "Environmental Impact              32121\n",
            "Authorized                       318775\n",
            "Maximum Residue Limit (MRL)      318775\n",
            "Acceptable Daily Intake (ADI)    318775\n",
            "Residue Percentage               318775\n",
            "Food Acquisition (kg)            282081\n",
            "Food Group (FG)                  210287\n",
            "Population Food Group            334695\n",
            "Bean Intake (Food Group)         367914\n",
            "Vegetable Intake (Food Group)    430174\n",
            "Fruit Intake (Food Group)        415214\n",
            "dtype: int64\n"
          ]
        }
      ]
    },
    {
      "cell_type": "markdown",
      "source": [
        "# Taking care of missing data\n"
      ],
      "metadata": {
        "id": "qG6HURAGFC3P"
      }
    },
    {
      "cell_type": "markdown",
      "source": [
        "## Dropping Rows"
      ],
      "metadata": {
        "id": "-cypwdDxQSAp"
      }
    },
    {
      "cell_type": "code",
      "source": [
        "#Removing rows in 'Food Production (tons)' column\n",
        "dataset_cleaned = dataset.dropna(subset=[dataset.columns[7]])\n",
        "print(\"Shape after dropping target NaNs:\", dataset_cleaned.shape)"
      ],
      "metadata": {
        "id": "qHbgmXI1OSoO",
        "colab": {
          "base_uri": "https://localhost:8080/"
        },
        "outputId": "e3889644-a6f8-4318-a0b2-3976f0a21cde"
      },
      "execution_count": 4,
      "outputs": [
        {
          "output_type": "stream",
          "name": "stdout",
          "text": [
            "Shape after dropping target NaNs: (432688, 52)\n"
          ]
        }
      ]
    },
    {
      "cell_type": "markdown",
      "source": [
        "Removing all rows with empty values in column number 8 (Index[7]), our target column"
      ],
      "metadata": {
        "id": "2qIrAC0XSsmq"
      }
    },
    {
      "cell_type": "code",
      "source": [
        "print(dataset_cleaned.isnull().sum())"
      ],
      "metadata": {
        "colab": {
          "base_uri": "https://localhost:8080/"
        },
        "id": "nuAoANpkPmIY",
        "outputId": "fab81bef-f71a-4fea-c1ce-af2465f0fb0c"
      },
      "execution_count": 5,
      "outputs": [
        {
          "output_type": "stream",
          "name": "stdout",
          "text": [
            "Unnamed: 0                            0\n",
            "Year                                  0\n",
            "Food                                  0\n",
            "Food (English)                        0\n",
            "Region                                0\n",
            "State                                 0\n",
            "Harvest Area (hectares)               0\n",
            "Food Production (tons)                0\n",
            "Energy (kcal)                         0\n",
            "Protein (g)                       16884\n",
            "Lipids (g)                            0\n",
            "Carbohydrates (g)                     0\n",
            "Fiber (g)                         16884\n",
            "Calcium (mg)                          0\n",
            "Magnesium (mg)                     1510\n",
            "Manganese (mg)                    18394\n",
            "Phosphorus (mg)                   16884\n",
            "Iron (mg)                         16884\n",
            "Potassium (mg)                     1510\n",
            "Copper (mg)                        1510\n",
            "Zinc (mg)                          1510\n",
            "Selenium (mcg)                    57673\n",
            "Retinol (mcg)                    427270\n",
            "Vitamin A (mcg)                  177247\n",
            "Vitamin B1 (mg)                    4489\n",
            "Vitamin B2 (mg)                   40971\n",
            "Vitamin B3 (mg)                   40971\n",
            "Equivalent Vitamin B3 (mg)        42481\n",
            "Vitamin B6 (mg)                   20109\n",
            "Folate (mcg)                      42481\n",
            "Vitamin C (mg)                   183037\n",
            "Water Need                       407723\n",
            "Water Use                        407723\n",
            "Water Deficit                    407723\n",
            "Water Deficit Percentage         407723\n",
            "CODE                              26832\n",
            "Commercial pesticide name         26832\n",
            "Pesticide                         26832\n",
            "Class                            312164\n",
            "Organic                           26832\n",
            "Toxic Class                       26832\n",
            "Environmental Impact              26832\n",
            "Authorized                       312164\n",
            "Maximum Residue Limit (MRL)      312164\n",
            "Acceptable Daily Intake (ADI)    312164\n",
            "Residue Percentage               312164\n",
            "Food Acquisition (kg)            278859\n",
            "Food Group (FG)                  209548\n",
            "Population Food Group            332432\n",
            "Bean Intake (Food Group)         362032\n",
            "Vegetable Intake (Food Group)    426156\n",
            "Fruit Intake (Food Group)        409620\n",
            "dtype: int64\n"
          ]
        }
      ]
    },
    {
      "cell_type": "markdown",
      "source": [
        "## Dropping Columns"
      ],
      "metadata": {
        "id": "qT8pozlPQr5d"
      }
    },
    {
      "cell_type": "code",
      "source": [
        "dataset_cleaned = dataset_cleaned.drop(columns=['Water Need', 'Water Use', 'Water Deficit', 'Water Deficit Percentage',\n",
        "    'Retinol (mcg)', 'Selenium (mcg)', 'Unnamed: 0', 'Food', 'CODE', 'Commercial pesticide name',\n",
        "    'Pesticide', 'Class', 'Organic', 'Toxic Class', 'Environmental Impact',\n",
        "    'Authorized', 'Maximum Residue Limit (MRL)', 'Acceptable Daily Intake (ADI)',\n",
        "    'Residue Percentage', 'Vitamin A (mcg)', 'Vitamin B1 (mg)', 'Vitamin B2 (mg)',\n",
        "    'Vitamin B3 (mg)', 'Equivalent Vitamin B3 (mg)', 'Vitamin B6 (mg)',\n",
        "    'Folate (mcg)', 'Vitamin C (mg)', 'Fruit Intake (Food Group)', 'Vegetable Intake (Food Group)',\n",
        "    'Bean Intake (Food Group)', 'Population Food Group', 'Food Group (FG)', 'Food Acquisition (kg)'])\n",
        "print(\"Shape after dropping columns:\", dataset_cleaned.shape)"
      ],
      "metadata": {
        "id": "RMrJ29_7RBOc",
        "colab": {
          "base_uri": "https://localhost:8080/"
        },
        "outputId": "43f3c3cd-f76f-4c6e-fc0d-105230113ddf"
      },
      "execution_count": 6,
      "outputs": [
        {
          "output_type": "stream",
          "name": "stdout",
          "text": [
            "Shape after dropping columns: (432688, 19)\n"
          ]
        }
      ]
    },
    {
      "cell_type": "markdown",
      "source": [
        "Removed Columns 'Retinol (mcg)', 'Water Need', 'Water Use', 'Water Deficit', 'Water Deficit Percentage', 'Class', 'Maximum Residue Limit (MRL)', 'Acceptable Daily Intake (ADI)', 'Residue Percentage', 'Population Food Group', 'Bean Intake (Food Group)', 'Vegetable Intake (Food Group)', 'Fruit Intake (Food Group)' as all of these columns have more than 90% of values missing.                            "
      ],
      "metadata": {
        "id": "Luhkc5_cSI_l"
      }
    },
    {
      "cell_type": "markdown",
      "source": [
        "Removed column 'Authorized' as it has only one value in it.              "
      ],
      "metadata": {
        "id": "XvPWyMK-WJML"
      }
    },
    {
      "cell_type": "markdown",
      "source": [
        "Removed Columns  'Pesticide' and 'Commercial pesticide', as an existing feature 'Code' is already giving us the information about the Fertilizer/Pesticide being used"
      ],
      "metadata": {
        "id": "USAAOCAOsujR"
      }
    },
    {
      "cell_type": "code",
      "source": [
        "print(dataset_cleaned.isnull().sum())"
      ],
      "metadata": {
        "colab": {
          "base_uri": "https://localhost:8080/"
        },
        "id": "c2S157COS_Tk",
        "outputId": "c2a552bc-00c0-4d02-b7c6-9f12924f074f"
      },
      "execution_count": 7,
      "outputs": [
        {
          "output_type": "stream",
          "name": "stdout",
          "text": [
            "Year                           0\n",
            "Food (English)                 0\n",
            "Region                         0\n",
            "State                          0\n",
            "Harvest Area (hectares)        0\n",
            "Food Production (tons)         0\n",
            "Energy (kcal)                  0\n",
            "Protein (g)                16884\n",
            "Lipids (g)                     0\n",
            "Carbohydrates (g)              0\n",
            "Fiber (g)                  16884\n",
            "Calcium (mg)                   0\n",
            "Magnesium (mg)              1510\n",
            "Manganese (mg)             18394\n",
            "Phosphorus (mg)            16884\n",
            "Iron (mg)                  16884\n",
            "Potassium (mg)              1510\n",
            "Copper (mg)                 1510\n",
            "Zinc (mg)                   1510\n",
            "dtype: int64\n"
          ]
        }
      ]
    },
    {
      "cell_type": "markdown",
      "source": [
        "## Handling missing data"
      ],
      "metadata": {
        "id": "iQDsSq7CWuFN"
      }
    },
    {
      "cell_type": "markdown",
      "source": [
        "### Scientific Notation Clear"
      ],
      "metadata": {
        "id": "YFz-4Aqeg_f5"
      }
    },
    {
      "cell_type": "code",
      "source": [
        "def fix_scientific_notation(df):\n",
        "    \"\"\"\n",
        "    Converts all scientific notation strings in DataFrame to float64 numeric values.\n",
        "    Handles columns containing mixed numeric/scientific notation strings.\n",
        "\n",
        "    Parameters:\n",
        "        df (pd.DataFrame): Input dataframe with potential scientific notation values\n",
        "\n",
        "    Returns:\n",
        "        pd.DataFrame: Copy of input with all values converted to proper numeric format\n",
        "    \"\"\"\n",
        "    sci_pattern = r'^-?\\d*\\.?\\d+e[+-]?\\d+$'  # Regex pattern to detect scientific notation\n",
        "    fixed_df = df.copy()\n",
        "\n",
        "    for col in fixed_df.columns:\n",
        "        # Check if column contains any scientific notation strings\n",
        "        if fixed_df[col].astype(str).str.contains(sci_pattern, regex=True).any():\n",
        "            try:\n",
        "                # Convert entire column to numeric, coercing errors to NaN\n",
        "                fixed_df[col] = pd.to_numeric(fixed_df[col], errors='coerce')\n",
        "            except Exception as e:\n",
        "                print(f\"Warning: Could not convert column '{col}' - {str(e)}\")\n",
        "                continue\n",
        "\n",
        "        # Ensure numeric columns stay in decimal format\n",
        "        if pd.api.types.is_numeric_dtype(fixed_df[col]):\n",
        "            fixed_df[col] = fixed_df[col].astype('float64')\n",
        "\n",
        "    return fixed_df\n",
        "\n",
        "dataset_cleaned = fix_scientific_notation(dataset_cleaned)"
      ],
      "metadata": {
        "id": "BzVMXOVdhEje"
      },
      "execution_count": 8,
      "outputs": []
    },
    {
      "cell_type": "markdown",
      "source": [
        "### Data Quality Check"
      ],
      "metadata": {
        "id": "0CHzep8Zhzq4"
      }
    },
    {
      "cell_type": "code",
      "source": [
        "nutritional_cols = ['Energy (kcal)', 'Protein (g)', 'Lipids (g)', 'Carbohydrates (g)',\n",
        "                    'Fiber (g)', 'Calcium (mg)', 'Magnesium (mg)', 'Manganese (mg)',\n",
        "                    'Phosphorus (mg)', 'Iron (mg)', 'Potassium (mg)', 'Copper (mg)', 'Zinc (mg)']\n",
        "numerical_cols = ['Harvest Area (hectares)'] + nutritional_cols\n",
        "categorical_cols = ['Food (English)', 'Region', 'State']\n",
        "other_cols = ['Year', 'Food Production (tons)']\n",
        "\n",
        "# Higher thresholds assuming aggregates\n",
        "max_thresholds = {\n",
        "    'Harvest Area (hectares)': 1e7,      # 10M hectares\n",
        "    'Food Production (tons)': 5e8,       # 500M tons\n",
        "    'Energy (kcal)': 1e14,               # 100T kcal (total for region)\n",
        "    'Protein (g)': 1e12,                 # 1T g\n",
        "    'Lipids (g)': 1e12,                  # 1T g\n",
        "    'Carbohydrates (g)': 1e13,           # 10T g\n",
        "    'Fiber (g)': 1e12,                   # 1T g\n",
        "    'Calcium (mg)': 1e13,                # 10T mg\n",
        "    'Magnesium (mg)': 1e13,              # 10T mg\n",
        "    'Manganese (mg)': 1e11,              # 100B mg\n",
        "    'Phosphorus (mg)': 1e13,             # 10T mg\n",
        "    'Iron (mg)': 1e12,                   # 1T mg\n",
        "    'Potassium (mg)': 1e14,              # 100T mg\n",
        "    'Copper (mg)': 1e11,                 # 100B mg\n",
        "    'Zinc (mg)': 1e11                    # 100B mg\n",
        "}\n",
        "\n",
        "# Check and cap\n",
        "for col in numerical_cols:\n",
        "    extreme_count = (dataset_cleaned[col] > max_thresholds[col]).sum()\n",
        "    print(f\"{col}: {extreme_count} values > {max_thresholds[col]}\")\n",
        "    dataset_cleaned.loc[dataset_cleaned[col] > max_thresholds[col], col] = np.nan\n",
        "\n",
        "# Stats after capping\n",
        "print(\"Stats after capping extremes:\")\n",
        "print(dataset_cleaned[numerical_cols].describe())\n",
        "\n",
        "# Missing values\n",
        "print(\"Missing values after cleaning:\")\n",
        "print(dataset_cleaned[numerical_cols].isnull().sum())"
      ],
      "metadata": {
        "colab": {
          "base_uri": "https://localhost:8080/"
        },
        "id": "ZFnNRzBKh6_u",
        "outputId": "a2091189-e045-4e1f-f87f-c856017bb52d"
      },
      "execution_count": 9,
      "outputs": [
        {
          "output_type": "stream",
          "name": "stdout",
          "text": [
            "Harvest Area (hectares): 226 values > 10000000.0\n",
            "Energy (kcal): 587 values > 100000000000000.0\n",
            "Protein (g): 5996 values > 1000000000000.0\n",
            "Lipids (g): 6072 values > 1000000000000.0\n",
            "Carbohydrates (g): 1536 values > 10000000000000.0\n",
            "Fiber (g): 3570 values > 1000000000000.0\n",
            "Calcium (mg): 4368 values > 10000000000000.0\n",
            "Magnesium (mg): 4000 values > 10000000000000.0\n",
            "Manganese (mg): 4063 values > 100000000000.0\n",
            "Phosphorus (mg): 10167 values > 10000000000000.0\n",
            "Iron (mg): 1045 values > 1000000000000.0\n",
            "Potassium (mg): 1060 values > 100000000000000.0\n",
            "Copper (mg): 750 values > 100000000000.0\n",
            "Zinc (mg): 7280 values > 100000000000.0\n",
            "Stats after capping extremes:\n",
            "       Harvest Area (hectares)  Energy (kcal)   Protein (g)    Lipids (g)  \\\n",
            "count             4.324620e+05   4.321010e+05  4.098080e+05  4.266160e+05   \n",
            "mean              1.863742e+05   1.348502e+12  2.331706e+10  2.565887e+10   \n",
            "std               6.899510e+05   5.732702e+12  9.420144e+10  1.045186e+11   \n",
            "min               0.000000e+00   0.000000e+00  0.000000e+00  0.000000e+00   \n",
            "25%               2.200000e+01   4.080000e+07  4.636000e+05  1.890000e+05   \n",
            "50%               3.198000e+03   1.311593e+10  2.693848e+08  1.037190e+08   \n",
            "75%               6.759900e+04   1.343731e+11  3.001024e+09  1.854475e+09   \n",
            "max               9.989649e+06   9.962685e+13  9.940851e+11  9.998946e+11   \n",
            "\n",
            "       Carbohydrates (g)     Fiber (g)  Calcium (mg)  Magnesium (mg)  \\\n",
            "count       4.311520e+05  4.122340e+05  4.283200e+05    4.271780e+05   \n",
            "mean        1.660039e+11  2.305874e+10  1.523958e+11    2.208703e+11   \n",
            "std         7.142642e+11  9.037028e+10  7.271009e+11    8.952059e+11   \n",
            "min         0.000000e+00  0.000000e+00  0.000000e+00    0.000000e+00   \n",
            "25%         9.355400e+06  9.360000e+05  1.338000e+07    1.720000e+07   \n",
            "50%         2.408803e+09  3.814068e+08  2.392750e+09    3.978990e+09   \n",
            "75%         2.547018e+10  3.742018e+09  2.755021e+10    3.773609e+10   \n",
            "max         9.944012e+12  9.976582e+11  9.797760e+12    9.968418e+12   \n",
            "\n",
            "       Manganese (mg)  Phosphorus (mg)     Iron (mg)  Potassium (mg)  \\\n",
            "count    4.102310e+05     4.056370e+05  4.147590e+05    4.301180e+05   \n",
            "mean     1.913935e+09     3.217716e+11  1.285419e+10    1.859365e+12   \n",
            "std      8.088578e+09     1.189102e+12  7.288247e+10    8.165869e+12   \n",
            "min      0.000000e+00     0.000000e+00  0.000000e+00    0.000000e+00   \n",
            "25%      5.563000e+04     8.400000e+06  1.374000e+05    2.363000e+08   \n",
            "50%      3.154174e+07     5.431040e+09  8.137200e+07    3.465902e+10   \n",
            "75%      3.622277e+08     6.286425e+10  1.007557e+09    3.246344e+11   \n",
            "max      9.786475e+10     9.947295e+12  9.873703e+11    9.890988e+13   \n",
            "\n",
            "        Copper (mg)     Zinc (mg)  \n",
            "count  4.304280e+05  4.238980e+05  \n",
            "mean   1.195846e+09  3.213398e+09  \n",
            "std    6.322552e+09  1.113953e+10  \n",
            "min    0.000000e+00  0.000000e+00  \n",
            "25%    6.500000e+04  1.482000e+05  \n",
            "50%    1.453232e+07  5.148560e+07  \n",
            "75%    1.617003e+08  7.172678e+08  \n",
            "max    9.530627e+10  9.907465e+10  \n",
            "Missing values after cleaning:\n",
            "Harvest Area (hectares)      226\n",
            "Energy (kcal)                587\n",
            "Protein (g)                22880\n",
            "Lipids (g)                  6072\n",
            "Carbohydrates (g)           1536\n",
            "Fiber (g)                  20454\n",
            "Calcium (mg)                4368\n",
            "Magnesium (mg)              5510\n",
            "Manganese (mg)             22457\n",
            "Phosphorus (mg)            27051\n",
            "Iron (mg)                  17929\n",
            "Potassium (mg)              2570\n",
            "Copper (mg)                 2260\n",
            "Zinc (mg)                   8790\n",
            "dtype: int64\n"
          ]
        }
      ]
    },
    {
      "cell_type": "markdown",
      "source": [
        "### Outlier Handling"
      ],
      "metadata": {
        "id": "HUxILxGiUnrF"
      }
    },
    {
      "cell_type": "code",
      "source": [
        "#Log Transformation and Outlier Detection\n",
        "import numpy as np\n",
        "import matplotlib.pyplot as plt\n",
        "\n",
        "log_cols = {}\n",
        "for col in numerical_cols:\n",
        "    log_cols[col] = np.log1p(dataset_cleaned[col])  # log1p = log(1 + x)\n",
        "log_df = pd.DataFrame(log_cols)\n",
        "\n",
        "def detect_outliers(df, column):\n",
        "    Q1 = df[column].quantile(0.25)\n",
        "    Q3 = df[column].quantile(0.75)\n",
        "    IQR = Q3 - Q1\n",
        "    lower_bound = Q1 - 1.5 * IQR\n",
        "    upper_bound = Q3 + 1.5 * IQR\n",
        "    outliers = df[(df[column] < lower_bound) | (df[column] > upper_bound)][column]\n",
        "    return len(outliers), lower_bound, upper_bound\n",
        "\n",
        "plt.figure(figsize=(15, 10))\n",
        "for i, col in enumerate(numerical_cols, 1):\n",
        "    plt.subplot(4, 4, i)\n",
        "    plt.boxplot(log_df[col].dropna())\n",
        "    plt.title(f\"Log({col})\")\n",
        "    outlier_count, lower, upper = detect_outliers(log_df, col)\n",
        "    print(f\"Log({col}): {outlier_count} outliers (Lower: {lower:.2f}, Upper: {upper:.2f})\")\n",
        "plt.tight_layout()\n",
        "plt.show()"
      ],
      "metadata": {
        "colab": {
          "base_uri": "https://localhost:8080/",
          "height": 1000
        },
        "id": "Vn0ehM92eFUF",
        "outputId": "c4a647da-329e-4a58-f407-9d044a3b5c96"
      },
      "execution_count": 10,
      "outputs": [
        {
          "output_type": "stream",
          "name": "stdout",
          "text": [
            "Log(Harvest Area (hectares)): 0 outliers (Lower: -8.84, Upper: 23.10)\n",
            "Log(Energy (kcal)): 96769 outliers (Lower: 5.37, Upper: 37.77)\n",
            "Log(Protein (g)): 0 outliers (Lower: -0.12, Upper: 34.99)\n",
            "Log(Lipids (g)): 0 outliers (Lower: -1.64, Upper: 35.13)\n",
            "Log(Carbohydrates (g)): 96769 outliers (Lower: 4.19, Upper: 35.82)\n",
            "Log(Fiber (g)): 96114 outliers (Lower: 1.31, Upper: 34.48)\n",
            "Log(Calcium (mg)): 96769 outliers (Lower: 4.96, Upper: 35.48)\n",
            "Log(Magnesium (mg)): 95376 outliers (Lower: 5.12, Upper: 35.89)\n",
            "Log(Manganese (mg)): 0 outliers (Lower: -2.25, Upper: 32.88)\n",
            "Log(Phosphorus (mg)): 96114 outliers (Lower: 2.56, Upper: 38.24)\n",
            "Log(Iron (mg)): 0 outliers (Lower: -1.52, Upper: 34.08)\n",
            "Log(Potassium (mg)): 95376 outliers (Lower: 8.44, Upper: 37.34)\n",
            "Log(Copper (mg)): 0 outliers (Lower: -0.65, Upper: 30.63)\n",
            "Log(Zinc (mg)): 0 outliers (Lower: -0.82, Upper: 33.12)\n"
          ]
        },
        {
          "output_type": "display_data",
          "data": {
            "text/plain": [
              "<Figure size 1500x1000 with 14 Axes>"
            ],
            "image/png": "[encoded data removed]"
          },
          "metadata": {}
        }
      ]
    },
    {
      "cell_type": "markdown",
      "source": [
        "### Imputing Missing Values"
      ],
      "metadata": {
        "id": "p9LWPgvxle5f"
      }
    },
    {
      "cell_type": "code",
      "source": [
        "#Remove duplicates from the dataset\n",
        "dataset_cleaned = dataset_cleaned.drop_duplicates()"
      ],
      "metadata": {
        "id": "fCR-xLDue5BD"
      },
      "execution_count": 11,
      "outputs": []
    },
    {
      "cell_type": "code",
      "source": [
        "dataset_cleaned = dataset_cleaned.copy()\n",
        "\n",
        "for col in numerical_cols:\n",
        "    dataset_cleaned[col] = dataset_cleaned[col].fillna(dataset_cleaned[col].median())\n",
        "\n",
        "# Impute categorical columns and others\n",
        "categorical_cols = ['Food (English)', 'Region', 'State']\n",
        "other_cols = ['Year', 'Food Production (tons)']  # Include remaining columns\n",
        "for col in categorical_cols:\n",
        "    dataset_cleaned[col] = dataset_cleaned[col].fillna(dataset_cleaned[col].mode()[0])\n",
        "for col in other_cols:\n",
        "    dataset_cleaned[col] = dataset_cleaned[col].fillna(dataset_cleaned[col].median())\n",
        "\n",
        "print(\"NaNs in dataset_cleaned after full imputation:\")\n",
        "print(dataset_cleaned.isnull().sum())\n",
        "print(\"Shape of dataset_cleaned:\", dataset_cleaned.shape)"
      ],
      "metadata": {
        "colab": {
          "base_uri": "https://localhost:8080/"
        },
        "id": "7YvyKGWdllPM",
        "outputId": "88e2d813-9c51-4946-dd77-031213530508"
      },
      "execution_count": 12,
      "outputs": [
        {
          "output_type": "stream",
          "name": "stdout",
          "text": [
            "NaNs in dataset_cleaned after full imputation:\n",
            "Year                       0\n",
            "Food (English)             0\n",
            "Region                     0\n",
            "State                      0\n",
            "Harvest Area (hectares)    0\n",
            "Food Production (tons)     0\n",
            "Energy (kcal)              0\n",
            "Protein (g)                0\n",
            "Lipids (g)                 0\n",
            "Carbohydrates (g)          0\n",
            "Fiber (g)                  0\n",
            "Calcium (mg)               0\n",
            "Magnesium (mg)             0\n",
            "Manganese (mg)             0\n",
            "Phosphorus (mg)            0\n",
            "Iron (mg)                  0\n",
            "Potassium (mg)             0\n",
            "Copper (mg)                0\n",
            "Zinc (mg)                  0\n",
            "dtype: int64\n",
            "Shape of dataset_cleaned: (52727, 19)\n"
          ]
        }
      ]
    },
    {
      "cell_type": "markdown",
      "source": [
        "## Adding Target Column for Classification"
      ],
      "metadata": {
        "id": "FOvBF6W1-_MW"
      }
    },
    {
      "cell_type": "code",
      "source": [
        "#Add Healthy column: Sum of nutritional columns\n",
        "dataset_cleaned['Healthy_Sum'] = dataset_cleaned[nutritional_cols].sum(axis=1)\n",
        "median_healthy = dataset_cleaned['Healthy_Sum'].median()\n",
        "dataset_cleaned['Healthy'] = (dataset_cleaned['Healthy_Sum'] > median_healthy).astype(int)"
      ],
      "metadata": {
        "id": "Ym9KKDi9_IfI"
      },
      "execution_count": 13,
      "outputs": []
    },
    {
      "cell_type": "markdown",
      "source": [
        "# Encoding categorical data\n"
      ],
      "metadata": {
        "id": "zHl9XCfzFKQ1"
      }
    },
    {
      "cell_type": "code",
      "source": [
        "#Encoding with Full Checks\n",
        "from sklearn.preprocessing import OneHotEncoder\n",
        "\n",
        "encoder = OneHotEncoder(sparse_output=False, drop='first')\n",
        "categorical_cols = ['Food (English)', 'Region', 'State']\n",
        "encoded_array = encoder.fit_transform(dataset_cleaned[categorical_cols])\n",
        "encoded_df = pd.DataFrame(encoded_array, columns=encoder.get_feature_names_out(categorical_cols))\n",
        "print(\"Shape of dataset_cleaned:\", dataset_cleaned.shape)\n",
        "print(\"Shape of encoded_df:\", encoded_df.shape)\n",
        "print(\"NaNs in encoded_df:\", encoded_df.isnull().sum().sum())\n",
        "data_encoded = pd.concat([dataset_cleaned.drop(categorical_cols, axis=1).reset_index(drop=True),\n",
        "                          encoded_df.reset_index(drop=True)], axis=1)\n",
        "print(\"Shape of data_encoded:\", data_encoded.shape)\n",
        "print(\"NaNs in data_encoded:\", data_encoded.isnull().sum().sum())\n",
        "print(\"Healthy column distribution:\", data_encoded['Healthy'].value_counts())\n",
        "print(data_encoded.isnull().sum())"
      ],
      "metadata": {
        "colab": {
          "base_uri": "https://localhost:8080/"
        },
        "id": "NlqZfsOUgl8w",
        "outputId": "f762a070-5aaf-448f-9edd-3267675926e8"
      },
      "execution_count": 14,
      "outputs": [
        {
          "output_type": "stream",
          "name": "stdout",
          "text": [
            "Shape of dataset_cleaned: (52727, 21)\n",
            "Shape of encoded_df: (52727, 67)\n",
            "NaNs in encoded_df: 0\n",
            "Shape of data_encoded: (52727, 85)\n",
            "NaNs in data_encoded: 0\n",
            "Healthy column distribution: Healthy\n",
            "0    26364\n",
            "1    26363\n",
            "Name: count, dtype: int64\n",
            "Year                       0\n",
            "Harvest Area (hectares)    0\n",
            "Food Production (tons)     0\n",
            "Energy (kcal)              0\n",
            "Protein (g)                0\n",
            "                          ..\n",
            "State_RORAIMA              0\n",
            "State_SANTA CATARINA       0\n",
            "State_SAO PAULO            0\n",
            "State_SERGIPE              0\n",
            "State_TOCANTINS            0\n",
            "Length: 85, dtype: int64\n"
          ]
        }
      ]
    },
    {
      "cell_type": "markdown",
      "source": [
        "One hot encoding is applied to columns **'Food (English)', 'Region' and 'State'**"
      ],
      "metadata": {
        "id": "qeFIvXzpuQst"
      }
    },
    {
      "cell_type": "markdown",
      "source": [
        "# Feature Scaling\n"
      ],
      "metadata": {
        "id": "SlG068NeFYoy"
      }
    },
    {
      "cell_type": "markdown",
      "source": [
        "## Splitting Dataset"
      ],
      "metadata": {
        "id": "FUdz2PSamqJF"
      }
    },
    {
      "cell_type": "code",
      "source": [
        "# Regression target\n",
        "X_reg = data_encoded.drop(['Food Production (tons)', 'Healthy', 'Healthy_Sum'], axis=1)\n",
        "y_reg = data_encoded['Food Production (tons)']\n",
        "\n",
        "# Classification target (Healthy)\n",
        "X_clf = data_encoded.drop(['Food Production (tons)', 'Healthy', 'Healthy_Sum'], axis=1)\n",
        "y_clf = data_encoded['Healthy']\n",
        "\n",
        "# Three-way split for regression\n",
        "X_train_reg, X_temp_reg, y_train_reg, y_temp_reg = train_test_split(X_reg, y_reg, test_size=0.3, random_state=42)\n",
        "X_val_reg, X_test_reg, y_val_reg, y_test_reg = train_test_split(X_temp_reg, y_temp_reg, test_size=0.5, random_state=42)\n",
        "\n",
        "# Three-way split for classification\n",
        "X_train_clf, X_temp_clf, y_train_clf, y_temp_clf = train_test_split(X_clf, y_clf, test_size=0.3, random_state=42)\n",
        "X_val_clf, X_test_clf, y_val_clf, y_test_clf = train_test_split(X_temp_clf, y_temp_clf, test_size=0.5, random_state=42)"
      ],
      "metadata": {
        "id": "Q21-hBB1A9V4"
      },
      "execution_count": 15,
      "outputs": []
    },
    {
      "cell_type": "markdown",
      "source": [
        "## Feature Scaling using Standardization"
      ],
      "metadata": {
        "id": "L6yWraYPoNm8"
      }
    },
    {
      "cell_type": "markdown",
      "source": [
        "### Regression"
      ],
      "metadata": {
        "id": "1mPM9Y0C_wY2"
      }
    },
    {
      "cell_type": "code",
      "source": [
        "# Scaling for regression\n",
        "scaler_reg = StandardScaler()\n",
        "X_train_reg_scaled = X_train_reg.copy()\n",
        "X_train_reg_scaled[numerical_cols] = scaler_reg.fit_transform(X_train_reg[numerical_cols])\n",
        "X_val_reg_scaled = X_val_reg.copy()\n",
        "X_val_reg_scaled[numerical_cols] = scaler_reg.transform(X_val_reg[numerical_cols])\n",
        "X_test_reg_scaled = X_test_reg.copy()\n",
        "X_test_reg_scaled[numerical_cols] = scaler_reg.transform(X_test_reg[numerical_cols])"
      ],
      "metadata": {
        "id": "lQ_xDWbwF2bA"
      },
      "execution_count": 16,
      "outputs": []
    },
    {
      "cell_type": "markdown",
      "source": [
        "### Classification"
      ],
      "metadata": {
        "id": "w-x78njd_0gy"
      }
    },
    {
      "cell_type": "code",
      "source": [
        "# Scaling for classification\n",
        "scaler_clf = StandardScaler()\n",
        "X_train_clf_scaled = X_train_clf.copy()\n",
        "X_train_clf_scaled[numerical_cols] = scaler_clf.fit_transform(X_train_clf[numerical_cols])\n",
        "X_val_clf_scaled = X_val_clf.copy()\n",
        "X_val_clf_scaled[numerical_cols] = scaler_clf.transform(X_val_clf[numerical_cols])\n",
        "X_test_clf_scaled = X_test_clf.copy()\n",
        "X_test_clf_scaled[numerical_cols] = scaler_clf.transform(X_test_clf[numerical_cols])\n",
        "\n",
        "print(\"Regression split shapes:\", X_train_reg_scaled.shape, X_val_reg_scaled.shape, X_test_reg_scaled.shape)\n",
        "print(\"Classification split shapes:\", X_train_clf_scaled.shape, X_val_clf_scaled.shape, X_test_clf_scaled.shape)"
      ],
      "metadata": {
        "colab": {
          "base_uri": "https://localhost:8080/"
        },
        "id": "E2QlTMc-_-oL",
        "outputId": "f54d2953-2b6d-4555-b69f-90ea50f9bfbc"
      },
      "execution_count": 17,
      "outputs": [
        {
          "output_type": "stream",
          "name": "stdout",
          "text": [
            "Regression split shapes: (36908, 82) (7909, 82) (7910, 82)\n",
            "Classification split shapes: (36908, 82) (7909, 82) (7910, 82)\n"
          ]
        }
      ]
    },
    {
      "cell_type": "markdown",
      "source": [
        "We observe, all numerical Features have values between **(0 - 1)** after applying **Standardization Feature Scaling**"
      ],
      "metadata": {
        "id": "2EjrdAKsGRJK"
      }
    },
    {
      "cell_type": "markdown",
      "source": [
        "# Regression Models with Hyperparameter Tuning"
      ],
      "metadata": {
        "id": "-yAze-HXJXU_"
      }
    },
    {
      "cell_type": "code",
      "source": [
        "def print_reg_metrics(model_name, y_train, y_train_pred, y_val, y_val_pred, y_test, y_test_pred):\n",
        "    train_rmse = np.sqrt(mean_squared_error(y_train, y_train_pred))\n",
        "    val_rmse = np.sqrt(mean_squared_error(y_val, y_val_pred))\n",
        "    test_rmse = np.sqrt(mean_squared_error(y_test, y_test_pred))\n",
        "    train_r2 = r2_score(y_train, y_train_pred)\n",
        "    val_r2 = r2_score(y_val, y_val_pred)\n",
        "    test_r2 = r2_score(y_test, y_test_pred)\n",
        "    print(f\"{model_name} Regression:\")\n",
        "    print(f\"Train RMSE: {train_rmse:.2f}, Val RMSE: {val_rmse:.2f}, Test RMSE: {test_rmse:.2f}\")\n",
        "    print(f\"Train R2: {train_r2:.4f}, Val R2: {val_r2:.4f}, Test R2: {test_r2:.4f}\\n\")\n",
        "    return {'Model': model_name, 'Train RMSE': train_rmse, 'Val RMSE': val_rmse, 'Test RMSE': test_rmse,\n",
        "            'Train R2': train_r2, 'Val R2': val_r2, 'Test R2': test_r2}"
      ],
      "metadata": {
        "id": "FG_SSc_e8xmW"
      },
      "execution_count": 18,
      "outputs": []
    },
    {
      "cell_type": "markdown",
      "source": [
        "## Linear Regression"
      ],
      "metadata": {
        "id": "LUC7hC6Q0jBd"
      }
    },
    {
      "cell_type": "code",
      "source": [
        "lr = LinearRegression()\n",
        "lr.fit(X_train_reg_scaled, y_train_reg)\n",
        "lr_train_pred = lr.predict(X_train_reg_scaled)\n",
        "lr_val_pred = lr.predict(X_val_reg_scaled)\n",
        "lr_test_pred = lr.predict(X_test_reg_scaled)\n",
        "lr_results = print_reg_metrics(\"Linear Regression\", y_train_reg, lr_train_pred, y_val_reg, lr_val_pred, y_test_reg, lr_test_pred)"
      ],
      "metadata": {
        "colab": {
          "base_uri": "https://localhost:8080/"
        },
        "id": "1hIT_J9EsJOm",
        "outputId": "77f7adcf-44f7-4d3b-dc33-f1dea2b56494"
      },
      "execution_count": 19,
      "outputs": [
        {
          "output_type": "stream",
          "name": "stdout",
          "text": [
            "Linear Regression Regression:\n",
            "Train RMSE: 5466397.94, Val RMSE: 4757062.83, Test RMSE: 5742455.93\n",
            "Train R2: 0.6035, Val R2: 0.7345, Test R2: 0.5355\n",
            "\n"
          ]
        }
      ]
    },
    {
      "cell_type": "markdown",
      "source": [
        "## Random Forest - Grid Search"
      ],
      "metadata": {
        "id": "vx9_MMs8BN08"
      }
    },
    {
      "cell_type": "code",
      "source": [
        "rf_params = {'n_estimators': [100, 200], 'max_depth': [10, 20], 'min_samples_split': [2, 5]}\n",
        "grid_rf = GridSearchCV(RandomForestRegressor(random_state=42), rf_params, cv=5, scoring='r2', n_jobs=-1)\n",
        "grid_rf.fit(X_train_reg_scaled, y_train_reg)\n",
        "rf_best = grid_rf.best_estimator_\n",
        "rf_train_pred = rf_best.predict(X_train_reg_scaled)\n",
        "rf_val_pred = rf_best.predict(X_val_reg_scaled)\n",
        "rf_test_pred = rf_best.predict(X_test_reg_scaled)\n",
        "rf_results = print_reg_metrics(\"Random Forest (Grid Search)\", y_train_reg, rf_train_pred, y_val_reg, rf_val_pred, y_test_reg, rf_test_pred)\n",
        "print(\"Best RF Params:\", grid_rf.best_params_)"
      ],
      "metadata": {
        "colab": {
          "base_uri": "https://localhost:8080/"
        },
        "id": "oow2ZfkkBTEM",
        "outputId": "a0ad6be0-f9f9-466e-dde2-aec7c58dbd1d"
      },
      "execution_count": 20,
      "outputs": [
        {
          "output_type": "stream",
          "name": "stdout",
          "text": [
            "Random Forest (Grid Search) Regression:\n",
            "Train RMSE: 330540.64, Val RMSE: 921080.17, Test RMSE: 650450.55\n",
            "Train R2: 0.9986, Val R2: 0.9900, Test R2: 0.9940\n",
            "\n",
            "Best RF Params: {'max_depth': 10, 'min_samples_split': 2, 'n_estimators': 200}\n"
          ]
        }
      ]
    },
    {
      "cell_type": "markdown",
      "source": [
        "## XGBoost - Random Search"
      ],
      "metadata": {
        "id": "FlIPiTK7BZDF"
      }
    },
    {
      "cell_type": "code",
      "source": [
        "xgb_params = {'n_estimators': [100, 200], 'max_depth': [3, 6, 10], 'learning_rate': [0.01, 0.1, 0.3]}\n",
        "rand_xgb = RandomizedSearchCV(XGBRegressor(random_state=42), xgb_params, n_iter=10, cv=5, scoring='r2', n_jobs=-1, random_state=42)\n",
        "rand_xgb.fit(X_train_reg_scaled, y_train_reg)\n",
        "xgb_best = rand_xgb.best_estimator_\n",
        "xgb_train_pred = xgb_best.predict(X_train_reg_scaled)\n",
        "xgb_val_pred = xgb_best.predict(X_val_reg_scaled)\n",
        "xgb_test_pred = xgb_best.predict(X_test_reg_scaled)\n",
        "xgb_results = print_reg_metrics(\"XGBoost (Random Search)\", y_train_reg, xgb_train_pred, y_val_reg, xgb_val_pred, y_test_reg, xgb_test_pred)\n",
        "print(\"Best XGB Params:\", rand_xgb.best_params_)"
      ],
      "metadata": {
        "colab": {
          "base_uri": "https://localhost:8080/"
        },
        "id": "qY5kGkBzBlJj",
        "outputId": "07df6d80-e8b2-4e42-b25e-d5eac9ab6bb5"
      },
      "execution_count": 21,
      "outputs": [
        {
          "output_type": "stream",
          "name": "stdout",
          "text": [
            "XGBoost (Random Search) Regression:\n",
            "Train RMSE: 123568.55, Val RMSE: 360786.26, Test RMSE: 247240.13\n",
            "Train R2: 0.9998, Val R2: 0.9985, Test R2: 0.9991\n",
            "\n",
            "Best XGB Params: {'n_estimators': 200, 'max_depth': 3, 'learning_rate': 0.3}\n"
          ]
        }
      ]
    },
    {
      "cell_type": "markdown",
      "source": [
        "## Neural Network - Basic"
      ],
      "metadata": {
        "id": "6FxY-sWfBe8s"
      }
    },
    {
      "cell_type": "code",
      "source": [
        "#Grid Search with Scaling and Early Stopping\n",
        "from tensorflow.keras.callbacks import EarlyStopping\n",
        "\n",
        "# Scale the target variable\n",
        "scaler_y = StandardScaler()\n",
        "y_train_reg_scaled = scaler_y.fit_transform(y_train_reg.values.reshape(-1, 1)).flatten()\n",
        "y_val_reg_scaled = scaler_y.transform(y_val_reg.values.reshape(-1, 1)).flatten()\n",
        "y_test_reg_scaled = scaler_y.transform(y_test_reg.values.reshape(-1, 1)).flatten()\n",
        "\n",
        "def build_nn(hidden_layers=(100, 50), learning_rate=0.001):\n",
        "    model = Sequential()\n",
        "    model.add(Dense(hidden_layers[0], activation='relu', input_shape=(X_train_reg_scaled.shape[1],)))\n",
        "    for units in hidden_layers[1:]:\n",
        "        model.add(Dense(units, activation='relu'))\n",
        "    model.add(Dense(1))  # Output layer for regression\n",
        "    model.compile(optimizer=tf.keras.optimizers.Adam(learning_rate=learning_rate), loss='mse')\n",
        "    return model\n",
        "\n",
        "# Hyperparameter grid\n",
        "nn_params = {\n",
        "    'hidden_layers': [(100, 50), (200, 100, 50), (100, 100)],  # Vary layer sizes\n",
        "    'learning_rate': [0.001, 0.01],\n",
        "    'batch_size': [32, 64]\n",
        "}\n",
        "\n",
        "best_nn = None\n",
        "best_val_rmse = float('inf')\n",
        "best_params = None\n",
        "\n",
        "# Manual Grid Search with Early Stopping\n",
        "for layers in nn_params['hidden_layers']:\n",
        "    for lr in nn_params['learning_rate']:\n",
        "        for batch_size in nn_params['batch_size']:\n",
        "            nn = build_nn(hidden_layers=layers, learning_rate=lr)\n",
        "            early_stopping = EarlyStopping(monitor='val_loss', patience=10, restore_best_weights=True)\n",
        "            nn.fit(X_train_reg_scaled, y_train_reg_scaled, validation_data=(X_val_reg_scaled, y_val_reg_scaled),\n",
        "                   epochs=100, batch_size=batch_size, callbacks=[early_stopping], verbose=0)\n",
        "            val_pred_scaled = nn.predict(X_val_reg_scaled, verbose=0).flatten()\n",
        "            val_pred = scaler_y.inverse_transform(val_pred_scaled.reshape(-1, 1)).flatten()\n",
        "            val_rmse = np.sqrt(mean_squared_error(y_val_reg, val_pred))\n",
        "            if val_rmse < best_val_rmse:\n",
        "                best_val_rmse = val_rmse\n",
        "                best_nn = nn\n",
        "                best_params = {'hidden_layers': layers, 'learning_rate': lr, 'batch_size': batch_size}\n",
        "\n",
        "# Predictions with best model\n",
        "nn_train_pred_scaled = best_nn.predict(X_train_reg_scaled, verbose=0).flatten()\n",
        "nn_val_pred_scaled = best_nn.predict(X_val_reg_scaled, verbose=0).flatten()\n",
        "nn_test_pred_scaled = best_nn.predict(X_test_reg_scaled, verbose=0).flatten()\n",
        "\n",
        "# Inverse transform predictions\n",
        "nn_train_pred = scaler_y.inverse_transform(nn_train_pred_scaled.reshape(-1, 1)).flatten()\n",
        "nn_val_pred = scaler_y.inverse_transform(nn_val_pred_scaled.reshape(-1, 1)).flatten()\n",
        "nn_test_pred = scaler_y.inverse_transform(nn_test_pred_scaled.reshape(-1, 1)).flatten()\n",
        "\n",
        "nn_results = print_reg_metrics(\"Neural Network (Grid Search)\", y_train_reg, nn_train_pred, y_val_reg, nn_val_pred, y_test_reg, nn_test_pred)\n",
        "print(\"Best NN Params:\", best_params)"
      ],
      "metadata": {
        "colab": {
          "base_uri": "https://localhost:8080/"
        },
        "id": "Dp6PdD63BsyV",
        "outputId": "d448c991-1806-409a-a531-76c1a75c3073"
      },
      "execution_count": 33,
      "outputs": [
        {
          "output_type": "stream",
          "name": "stdout",
          "text": [
            "Neural Network (Grid Search) Regression:\n",
            "Train RMSE: 535224.68, Val RMSE: 410426.90, Test RMSE: 429882.72\n",
            "Train R2: 0.9962, Val R2: 0.9980, Test R2: 0.9974\n",
            "\n",
            "Best NN Params: {'hidden_layers': (100, 50), 'learning_rate': 0.001, 'batch_size': 32}\n"
          ]
        }
      ]
    },
    {
      "cell_type": "markdown",
      "source": [
        "## KNN - Bayesian Optimization"
      ],
      "metadata": {
        "id": "vKud3PE6CA9r"
      }
    },
    {
      "cell_type": "code",
      "source": [
        "knn_params = {'n_neighbors': Integer(3, 15), 'weights': Categorical(['uniform', 'distance']), 'p': Integer(1, 2)}\n",
        "bayes_knn = BayesSearchCV(KNeighborsRegressor(), knn_params, n_iter=10, cv=5, scoring='r2', n_jobs=-1, random_state=42)\n",
        "bayes_knn.fit(X_train_reg_scaled, y_train_reg)\n",
        "knn_best = bayes_knn.best_estimator_\n",
        "knn_train_pred = knn_best.predict(X_train_reg_scaled)\n",
        "knn_val_pred = knn_best.predict(X_val_reg_scaled)\n",
        "knn_test_pred = knn_best.predict(X_test_reg_scaled)\n",
        "knn_results = print_reg_metrics(\"KNN (Bayesian Opt)\", y_train_reg, knn_train_pred, y_val_reg, knn_val_pred, y_test_reg, knn_test_pred)\n",
        "print(\"Best KNN Params:\", bayes_knn.best_params_)"
      ],
      "metadata": {
        "colab": {
          "base_uri": "https://localhost:8080/"
        },
        "id": "YgzwlwNzCHK2",
        "outputId": "0730668d-d44a-4065-9eee-79884a28f6c0"
      },
      "execution_count": 31,
      "outputs": [
        {
          "output_type": "stream",
          "name": "stdout",
          "text": [
            "KNN (Bayesian Opt) Regression:\n",
            "Train RMSE: 0.00, Val RMSE: 399296.93, Test RMSE: 621427.57\n",
            "Train R2: 1.0000, Val R2: 0.9981, Test R2: 0.9946\n",
            "\n",
            "Best KNN Params: OrderedDict([('n_neighbors', 13), ('p', 1), ('weights', 'distance')])\n"
          ]
        }
      ]
    },
    {
      "cell_type": "markdown",
      "source": [
        "## Results"
      ],
      "metadata": {
        "id": "0zSvJ_7ZCKMS"
      }
    },
    {
      "cell_type": "code",
      "source": [
        "reg_results = [lr_results, rf_results, xgb_results, nn_results, knn_results]"
      ],
      "metadata": {
        "id": "FXiXzvUiCNOX"
      },
      "execution_count": 35,
      "outputs": []
    },
    {
      "cell_type": "markdown",
      "source": [
        "# Classification Models with Hyperparameter Tuning"
      ],
      "metadata": {
        "id": "X5eNDmhGBw8r"
      }
    },
    {
      "cell_type": "code",
      "source": [
        "def print_clf_metrics(model_name, y_train, y_train_pred, y_val, y_val_pred, y_test, y_test_pred):\n",
        "    train_acc = accuracy_score(y_train, y_train_pred)\n",
        "    val_acc = accuracy_score(y_val, y_val_pred)\n",
        "    test_acc = accuracy_score(y_test, y_test_pred)\n",
        "    train_f1 = f1_score(y_train, y_train_pred)\n",
        "    val_f1 = f1_score(y_val, y_val_pred)\n",
        "    test_f1 = f1_score(y_test, y_test_pred)\n",
        "    print(f\"{model_name} Classification (Healthy):\")\n",
        "    print(f\"Train Acc: {train_acc:.4f}, Val Acc: {val_acc:.4f}, Test Acc: {test_acc:.4f}\")\n",
        "    print(f\"Train F1: {train_f1:.4f}, Val F1: {val_f1:.4f}, Test F1: {test_f1:.4f}\\n\")\n",
        "    return {'Model': model_name, 'Train Acc': train_acc, 'Val Acc': val_acc, 'Test Acc': test_acc,\n",
        "            'Train F1': train_f1, 'Val F1': val_f1, 'Test F1': test_f1}"
      ],
      "metadata": {
        "id": "JPQK05B-CcHp"
      },
      "execution_count": 23,
      "outputs": []
    },
    {
      "cell_type": "markdown",
      "source": [
        "## Logistic Regression - Grid Search"
      ],
      "metadata": {
        "id": "mgtt6twyCd0H"
      }
    },
    {
      "cell_type": "code",
      "source": [
        "lr_clf_params = {'C': [0.1, 1, 10], 'solver': ['lbfgs', 'liblinear']}\n",
        "grid_lr_clf = GridSearchCV(LogisticRegression(random_state=42), lr_clf_params, cv=5, scoring='f1', n_jobs=-1)\n",
        "grid_lr_clf.fit(X_train_clf_scaled, y_train_clf)\n",
        "lr_clf_best = grid_lr_clf.best_estimator_\n",
        "lr_clf_train_pred = lr_clf_best.predict(X_train_clf_scaled)\n",
        "lr_clf_val_pred = lr_clf_best.predict(X_val_clf_scaled)\n",
        "lr_clf_test_pred = lr_clf_best.predict(X_test_clf_scaled)\n",
        "lr_clf_results = print_clf_metrics(\"Logistic Regression (Grid Search)\", y_train_clf, lr_clf_train_pred, y_val_clf, lr_clf_val_pred, y_test_clf, lr_clf_test_pred)\n",
        "print(\"Best LR Params:\", grid_lr_clf.best_params_)"
      ],
      "metadata": {
        "colab": {
          "base_uri": "https://localhost:8080/"
        },
        "id": "-ep_x1IWChih",
        "outputId": "4fcf233f-2ff0-498e-949b-675dfe639c5f"
      },
      "execution_count": 24,
      "outputs": [
        {
          "output_type": "stream",
          "name": "stdout",
          "text": [
            "Logistic Regression (Grid Search) Classification (Healthy):\n",
            "Train Acc: 0.9241, Val Acc: 0.9202, Test Acc: 0.9169\n",
            "Train F1: 0.9224, Val F1: 0.9183, Test F1: 0.9127\n",
            "\n",
            "Best LR Params: {'C': 10, 'solver': 'liblinear'}\n"
          ]
        }
      ]
    },
    {
      "cell_type": "markdown",
      "source": [
        "## Random Forest - Random Search"
      ],
      "metadata": {
        "id": "8piULgfYCjQ4"
      }
    },
    {
      "cell_type": "code",
      "source": [
        "rf_clf_params = {'n_estimators': [100, 200], 'max_depth': [10, 20], 'min_samples_split': [2, 5]}\n",
        "rand_rf_clf = RandomizedSearchCV(RandomForestClassifier(random_state=42), rf_clf_params, n_iter=10, cv=5, scoring='f1', n_jobs=-1, random_state=42)\n",
        "rand_rf_clf.fit(X_train_clf_scaled, y_train_clf)\n",
        "rf_clf_best = rand_rf_clf.best_estimator_\n",
        "rf_clf_train_pred = rf_clf_best.predict(X_train_clf_scaled)\n",
        "rf_clf_val_pred = rf_clf_best.predict(X_val_clf_scaled)\n",
        "rf_clf_test_pred = rf_clf_best.predict(X_test_clf_scaled)\n",
        "rf_clf_results = print_clf_metrics(\"Random Forest (Random Search)\", y_train_clf, rf_clf_train_pred, y_val_clf, rf_clf_val_pred, y_test_clf, rf_clf_test_pred)\n",
        "print(\"Best RF Params:\", rand_rf_clf.best_params_)"
      ],
      "metadata": {
        "colab": {
          "base_uri": "https://localhost:8080/"
        },
        "id": "AWGahdb7Ct7D",
        "outputId": "21f2782d-44cb-46f3-b1c5-2f86d1c9aa67"
      },
      "execution_count": 25,
      "outputs": [
        {
          "output_type": "stream",
          "name": "stdout",
          "text": [
            "Random Forest (Random Search) Classification (Healthy):\n",
            "Train Acc: 1.0000, Val Acc: 0.9997, Test Acc: 0.9992\n",
            "Train F1: 1.0000, Val F1: 0.9997, Test F1: 0.9992\n",
            "\n",
            "Best RF Params: {'n_estimators': 100, 'min_samples_split': 5, 'max_depth': 20}\n"
          ]
        }
      ]
    },
    {
      "cell_type": "markdown",
      "source": [
        "## XGBoost - Bayesian Optimization"
      ],
      "metadata": {
        "id": "2bwpvOCPCv2F"
      }
    },
    {
      "cell_type": "code",
      "source": [
        "xgb_clf_params = {'n_estimators': Integer(100, 200), 'max_depth': Integer(3, 10), 'learning_rate': Real(0.01, 0.3, 'log-uniform')}\n",
        "bayes_xgb_clf = BayesSearchCV(XGBClassifier(random_state=42), xgb_clf_params, n_iter=10, cv=5, scoring='f1', n_jobs=-1, random_state=42)\n",
        "bayes_xgb_clf.fit(X_train_clf_scaled, y_train_clf)\n",
        "xgb_clf_best = bayes_xgb_clf.best_estimator_\n",
        "xgb_clf_train_pred = xgb_clf_best.predict(X_train_clf_scaled)\n",
        "xgb_clf_val_pred = xgb_clf_best.predict(X_val_clf_scaled)\n",
        "xgb_clf_test_pred = xgb_clf_best.predict(X_test_clf_scaled)\n",
        "xgb_clf_results = print_clf_metrics(\"XGBoost (Bayesian Opt)\", y_train_clf, xgb_clf_train_pred, y_val_clf, xgb_clf_val_pred, y_test_clf, xgb_clf_test_pred)\n",
        "print(\"Best XGB Params:\", bayes_xgb_clf.best_params_)"
      ],
      "metadata": {
        "colab": {
          "base_uri": "https://localhost:8080/"
        },
        "id": "KoD6M4-gC4Tg",
        "outputId": "4547c051-4eed-4926-ff15-739e12452374"
      },
      "execution_count": 26,
      "outputs": [
        {
          "output_type": "stream",
          "name": "stdout",
          "text": [
            "XGBoost (Bayesian Opt) Classification (Healthy):\n",
            "Train Acc: 1.0000, Val Acc: 0.9995, Test Acc: 0.9989\n",
            "Train F1: 1.0000, Val F1: 0.9995, Test F1: 0.9988\n",
            "\n",
            "Best XGB Params: OrderedDict([('learning_rate', 0.17255364529395611), ('max_depth', 9), ('n_estimators', 130)])\n"
          ]
        }
      ]
    },
    {
      "cell_type": "markdown",
      "source": [
        "## Neural Network - Basic"
      ],
      "metadata": {
        "id": "gUSBYqwVC6Ua"
      }
    },
    {
      "cell_type": "code",
      "source": [
        "nn_clf = MLPClassifier(hidden_layer_sizes=(100, 50), max_iter=500, random_state=42)\n",
        "nn_clf.fit(X_train_clf_scaled, y_train_clf)\n",
        "nn_clf_train_pred = nn_clf.predict(X_train_clf_scaled)\n",
        "nn_clf_val_pred = nn_clf.predict(X_val_clf_scaled)\n",
        "nn_clf_test_pred = nn_clf.predict(X_test_clf_scaled)\n",
        "nn_clf_results = print_clf_metrics(\"Neural Network\", y_train_clf, nn_clf_train_pred, y_val_clf, nn_clf_val_pred, y_test_clf, nn_clf_test_pred)"
      ],
      "metadata": {
        "colab": {
          "base_uri": "https://localhost:8080/"
        },
        "id": "1sGqzKlzDEpF",
        "outputId": "da2e50b4-756c-4676-97a5-9d798e48cf5b"
      },
      "execution_count": 27,
      "outputs": [
        {
          "output_type": "stream",
          "name": "stdout",
          "text": [
            "Neural Network Classification (Healthy):\n",
            "Train Acc: 0.8524, Val Acc: 0.8548, Test Acc: 0.8429\n",
            "Train F1: 0.8415, Val F1: 0.8446, Test F1: 0.8259\n",
            "\n"
          ]
        }
      ]
    },
    {
      "cell_type": "markdown",
      "source": [
        "## KNN - Grid Search"
      ],
      "metadata": {
        "id": "og35mJPXDFTb"
      }
    },
    {
      "cell_type": "code",
      "source": [
        "knn_clf_params = {'n_neighbors': [3, 5, 10], 'weights': ['uniform', 'distance']}\n",
        "grid_knn_clf = GridSearchCV(KNeighborsClassifier(), knn_clf_params, cv=5, scoring='f1', n_jobs=-1)\n",
        "grid_knn_clf.fit(X_train_clf_scaled, y_train_clf)\n",
        "knn_clf_best = grid_knn_clf.best_estimator_\n",
        "knn_clf_train_pred = knn_clf_best.predict(X_train_clf_scaled)\n",
        "knn_clf_val_pred = knn_clf_best.predict(X_val_clf_scaled)\n",
        "knn_clf_test_pred = knn_clf_best.predict(X_test_clf_scaled)\n",
        "knn_clf_results = print_clf_metrics(\"KNN (Grid Search)\", y_train_clf, knn_clf_train_pred, y_val_clf, knn_clf_val_pred, y_test_clf, knn_clf_test_pred)\n",
        "print(\"Best KNN Params:\", grid_knn_clf.best_params_)"
      ],
      "metadata": {
        "colab": {
          "base_uri": "https://localhost:8080/"
        },
        "id": "QZLgSOdfDKit",
        "outputId": "6abb4578-0225-4fb6-8769-240d7c8a99c2"
      },
      "execution_count": 28,
      "outputs": [
        {
          "output_type": "stream",
          "name": "stdout",
          "text": [
            "KNN (Grid Search) Classification (Healthy):\n",
            "Train Acc: 0.9883, Val Acc: 0.9559, Test Acc: 0.9566\n",
            "Train F1: 0.9883, Val F1: 0.9549, Test F1: 0.9543\n",
            "\n",
            "Best KNN Params: {'n_neighbors': 3, 'weights': 'uniform'}\n"
          ]
        }
      ]
    },
    {
      "cell_type": "markdown",
      "source": [
        "## Results"
      ],
      "metadata": {
        "id": "6Je11JtBDNKA"
      }
    },
    {
      "cell_type": "code",
      "source": [
        "clf_results = [lr_clf_results, rf_clf_results, xgb_clf_results, nn_clf_results, knn_clf_results]"
      ],
      "metadata": {
        "id": "aCZ26-FHDOz1"
      },
      "execution_count": 29,
      "outputs": []
    },
    {
      "cell_type": "markdown",
      "source": [
        "# Performance Table"
      ],
      "metadata": {
        "id": "mW58yxUQDRr-"
      }
    },
    {
      "cell_type": "code",
      "source": [
        "# Cell 7: Performance Tables\n",
        "reg_df = pd.DataFrame(reg_results)\n",
        "clf_df = pd.DataFrame(clf_results)\n",
        "\n",
        "print(\"Regression Performance Table:\")\n",
        "print(reg_df.round(4))\n",
        "print(\"\\nClassification Performance Table (Healthy):\")\n",
        "print(clf_df.round(4))"
      ],
      "metadata": {
        "colab": {
          "base_uri": "https://localhost:8080/"
        },
        "id": "5aO_kThoDTfs",
        "outputId": "d915fefe-1561-48a5-b032-6a3b3321053b"
      },
      "execution_count": 36,
      "outputs": [
        {
          "output_type": "stream",
          "name": "stdout",
          "text": [
            "Regression Performance Table:\n",
            "                          Model    Train RMSE      Val RMSE     Test RMSE  \\\n",
            "0             Linear Regression  5.466398e+06  4.757063e+06  5.742456e+06   \n",
            "1   Random Forest (Grid Search)  3.305406e+05  9.210802e+05  6.504505e+05   \n",
            "2       XGBoost (Random Search)  1.235686e+05  3.607863e+05  2.472401e+05   \n",
            "3  Neural Network (Grid Search)  5.352247e+05  4.104269e+05  4.298827e+05   \n",
            "4            KNN (Bayesian Opt)  0.000000e+00  3.992969e+05  6.214276e+05   \n",
            "\n",
            "   Train R2  Val R2  Test R2  \n",
            "0    0.6035  0.7345   0.5355  \n",
            "1    0.9986  0.9900   0.9940  \n",
            "2    0.9998  0.9985   0.9991  \n",
            "3    0.9962  0.9980   0.9974  \n",
            "4    1.0000  0.9981   0.9946  \n",
            "\n",
            "Classification Performance Table (Healthy):\n",
            "                               Model  Train Acc  Val Acc  Test Acc  Train F1  \\\n",
            "0  Logistic Regression (Grid Search)     0.9241   0.9202    0.9169    0.9224   \n",
            "1      Random Forest (Random Search)     1.0000   0.9997    0.9992    1.0000   \n",
            "2             XGBoost (Bayesian Opt)     1.0000   0.9995    0.9989    1.0000   \n",
            "3                     Neural Network     0.8524   0.8548    0.8429    0.8415   \n",
            "4                  KNN (Grid Search)     0.9883   0.9559    0.9566    0.9883   \n",
            "\n",
            "   Val F1  Test F1  \n",
            "0  0.9183   0.9127  \n",
            "1  0.9997   0.9992  \n",
            "2  0.9995   0.9988  \n",
            "3  0.8446   0.8259  \n",
            "4  0.9549   0.9543  \n"
          ]
        }
      ]
    }
  ]
}